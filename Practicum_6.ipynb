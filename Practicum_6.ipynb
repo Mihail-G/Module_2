{
 "cells": [
  {
   "cell_type": "code",
   "execution_count": 19,
   "metadata": {},
   "outputs": [
    {
     "name": "stdout",
     "output_type": "stream",
     "text": [
      "да\n"
     ]
    }
   ],
   "source": [
    "#1\n",
    "s = input()\n",
    "x = (s.find('x'))\n",
    "if int(s[:x])<6.5*2 and int(s[x+1:])<6.5*2:\n",
    "    print('да')\n",
    "else:\n",
    "    print('нет')"
   ]
  },
  {
   "cell_type": "code",
   "execution_count": 26,
   "metadata": {},
   "outputs": [
    {
     "name": "stdout",
     "output_type": "stream",
     "text": [
      "да\n"
     ]
    }
   ],
   "source": [
    "#2\n",
    "o = input()\n",
    "k = input()\n",
    "\n",
    "a = int(o[:(o.find('x'))])\n",
    "b = int(o[(o.find('x')+1):])\n",
    "c = int(k[:(k.find('x'))])\n",
    "d = int(k[(k.find('x')+1):(k.rfind('x'))])\n",
    "e = int(k[(k.rfind('x')+1):])\n",
    "\n",
    "if a*b < min(c,d,e)*(c+d+e-min(c,d,e)-max(c,d,e)):\n",
    "    print('нет')\n",
    "else:\n",
    "    print('да')"
   ]
  },
  {
   "cell_type": "code",
   "execution_count": 30,
   "metadata": {},
   "outputs": [
    {
     "name": "stdout",
     "output_type": "stream",
     "text": [
      "успешно\n"
     ]
    }
   ],
   "source": [
    "#3\n",
    "r = input()\n",
    "k = int(input())\n",
    "\n",
    "n = int(r[:(r.find('x'))])\n",
    "m = int(r[(r.find('x')+1):])\n",
    "\n",
    "def f(l,x,y):\n",
    "    for i in range(1,x):\n",
    "        if i*y == l:\n",
    "            return 'успешно'\n",
    "\n",
    "\n",
    "    for j in range(1,y):\n",
    "        if j*x == l:\n",
    "            return 'успешно'\n",
    "    \n",
    "    return 'неосуществимо'\n",
    "\n",
    "print(f(k,n,m))"
   ]
  },
  {
   "cell_type": "code",
   "execution_count": 6,
   "metadata": {},
   "outputs": [
    {
     "name": "stdout",
     "output_type": "stream",
     "text": [
      "черный\n"
     ]
    }
   ],
   "source": [
    "#4\n",
    "p = input()\n",
    "d = {'a':1 , 'b':2 , 'c':3 , 'd':4 , 'e':5 , 'f':6 , 'g':7 , 'h':8}\n",
    "\n",
    "if (d[p[0]] + int(p[1])) %2 == 0:\n",
    "    print('черный')\n",
    "else:\n",
    "    print('белый')"
   ]
  },
  {
   "cell_type": "code",
   "execution_count": 17,
   "metadata": {},
   "outputs": [
    {
     "name": "stdout",
     "output_type": "stream",
     "text": [
      "верно\n"
     ]
    }
   ],
   "source": [
    "#5\n",
    "p = input()\n",
    "p1 = p[:(p.find('-'))]\n",
    "p2 = p[(p.find('-')+1):]\n",
    "\n",
    "d = {'a':1 , 'b':2 , 'c':3 , 'd':4 , 'e':5 , 'f':6 , 'g':7 , 'h':8}\n",
    "\n",
    "p11 = d[p1[0]]\n",
    "p12 = int(p1[1])\n",
    "p21 = d[p2[0]]\n",
    "p22 = int(p2[1])\n",
    "\n",
    "if (abs(p21-p11)==2 and abs(p22-p12)==1) or (abs(p22-p12)==2 and abs(p21-p11)==1):\n",
    "    print('верно')\n",
    "else:\n",
    "    print('ошибка')\n"
   ]
  },
  {
   "cell_type": "code",
   "execution_count": 21,
   "metadata": {},
   "outputs": [
    {
     "name": "stdout",
     "output_type": "stream",
     "text": [
      "20\n"
     ]
    }
   ],
   "source": [
    "#6\n",
    "s = input()\n",
    "n = int(s[:(s.find(' '))])\n",
    "k = int(s[(s.find(' ')+1):(s.rfind(' '))])\n",
    "m = int(s[(s.rfind(' ')+1):])\n",
    "t=0\n",
    "\n",
    "while n>0:\n",
    "    t+= (m*2*k)\n",
    "    n-=k\n",
    "\n",
    "print(t)"
   ]
  },
  {
   "cell_type": "code",
   "execution_count": 23,
   "metadata": {},
   "outputs": [
    {
     "name": "stdout",
     "output_type": "stream",
     "text": [
      "да\n"
     ]
    }
   ],
   "source": [
    "#7\n",
    "n = int(input())\n",
    "\n",
    "if n%10==7 or n%10==5:\n",
    "    print('да')\n",
    "else:\n",
    "    print('нет')"
   ]
  },
  {
   "cell_type": "code",
   "execution_count": 79,
   "metadata": {},
   "outputs": [
    {
     "name": "stdout",
     "output_type": "stream",
     "text": [
      "6\n"
     ]
    }
   ],
   "source": [
    "#8\n",
    "n = int(input())\n",
    "d1 = {2:0 , 4:1 , 6:2 , 8:3 , 0:4}\n",
    "d2 = {2:5 , 4:6 , 6:7 , 8:8 , 0:9}\n",
    "\n",
    "if n<=10:\n",
    "    print(n-1)\n",
    "else:\n",
    "    if n<=100:\n",
    "        if n%2!=0:\n",
    "            print((n//30)+1)\n",
    "        else:\n",
    "            if n<=30:\n",
    "                if n<=20:\n",
    "                    print(d1[n%10])\n",
    "                else:\n",
    "                    print(d2[n%10])\n",
    "            else:\n",
    "                if ((n-10)%15)%2!=0:\n",
    "                    print(d1[n%10])\n",
    "                else:\n",
    "                    print(d2[n%10])"
   ]
  },
  {
   "cell_type": "code",
   "execution_count": 1,
   "metadata": {},
   "outputs": [
    {
     "name": "stdout",
     "output_type": "stream",
     "text": [
      "Окружности пересекаются\n"
     ]
    }
   ],
   "source": [
    "#9\n",
    "import math\n",
    "import turtle as trt\n",
    "\n",
    "xc1, yc1, r1 = int(input()), int(input()), int(input())\n",
    "xc2, yc2, r2 = int(input()), int(input()), int(input())\n",
    "\n",
    "d = math.sqrt((xc2 - xc1)**2 + (yc2 - yc1)**2)\n",
    "sum_r = r1 + r2\n",
    "dif_r = abs(r2 - r1)\n",
    "\n",
    "if d > sum_r:\n",
    "    print(\"Окружности лежат одна вне другой, не касаясь\")\n",
    "elif d == sum_r:\n",
    "    print(\"Окружности имеют внешнее касание\")\n",
    "elif d < sum_r and d > dif_r:\n",
    "    print(\"Окружности пересекаются\")\n",
    "elif d < dif_r:\n",
    "    print(\"Одна окружность лежит внутри другой, не касаясь\")\n",
    "elif d == dif_r:\n",
    "    print(\"Окружности имеют внутреннее касание\")\n",
    "else:\n",
    "    print(\"Ошибка в расчетах\")\n",
    "\n",
    "trt.up()\n",
    "trt.setposition(xc1, yc1 - r1)\n",
    "trt.down()\n",
    "trt.circle(r1)\n",
    "\n",
    "trt.up()\n",
    "trt.setposition(xc2, yc2 - r1)\n",
    "trt.down()\n",
    "trt.circle(r2)\n",
    "\n",
    "trt.mainloop()"
   ]
  },
  {
   "cell_type": "code",
   "execution_count": null,
   "metadata": {},
   "outputs": [
    {
     "name": "stdout",
     "output_type": "stream",
     "text": [
      "Прямоугольники лежат вне друг друга, не касаясь.\n"
     ]
    }
   ],
   "source": [
    "#10\n",
    "import turtle as trt\n",
    "x1_1, y1_1, x2_1, y2_1 = int(input()), int(input()), int(input()), int(input()) # Первый прямоугольник\n",
    "x1_2, y1_2, x2_2, y2_2 = int(input()), int(input()), int(input()), int(input()) # Второй прямоугольник\n",
    "\n",
    "#Касание\n",
    "touch = ((x1_1==x2_2 and y1_1==y2_2) or \n",
    "         (x1_1==x2_2 and y2_1==y1_2) or \n",
    "         (x2_1==x1_2 and y1_1==y2_2) or \n",
    "         (x2_1==x1_2 and y2_1==y1_2))\n",
    "\n",
    "#Пересечение\n",
    "inter = (x1_1==x2_2 or x2_1==x1_2 or y1_1==y2_2 or y2_1==y1_2 or \n",
    "         (x1_1>x1_2 and y1_1<y1_2 and x1_1<x2_2 and y1_1>y2_2) or \n",
    "         (x2_1<x2_2 and y2_1>y2_2 and x2_1>x1_2 and y2_1>y1_2) or \n",
    "         (x1_1<x1_2 and y1_1<y1_2 and x1_1<x2_2 and y1_1>y2_2) or \n",
    "         (x1_1<x2_2 and y1_1>y2_2 and x1_1>x1_2 and y1_1>y1_2))\n",
    "\n",
    "#Вложение\n",
    "put = ((x1_1<x1_2 and x2_1>x2_2 and y1_1>y1_2 and y2_1<y2_2) or \n",
    "       (x1_2<x1_1 and x2_2>x2_1 and y1_2>y1_1 and y2_2<y2_1))\n",
    "\n",
    "if touch:\n",
    "    print(\"Прямоугольники имеют касание.\")\n",
    "elif put:\n",
    "    print(\"Один прямоугольник лежит внутри другого, не касаясь\")\n",
    "elif inter:\n",
    "    print(\"Прямоугольники имеют пересечение.\")\n",
    "else:\n",
    "    print(\"Прямоугольники лежат вне друг друга, не касаясь.\")\n",
    "\n",
    "trt.setposition(x1_1, y1_1)\n",
    "trt.forward(x2_1-x1_1)\n",
    "trt.right(90)\n",
    "trt.forward(abs(y2_1-y1_1))\n",
    "trt.right(90)\n",
    "trt.forward(x2_1-x1_1)\n",
    "trt.right(90)\n",
    "trt.forward(abs(y2_1-y1_1))\n",
    "trt.down()\n",
    "\n",
    "trt.setposition(x1_2, y1_2)\n",
    "trt.up()\n",
    "trt.forward(x2_2-x1_2)\n",
    "trt.right(90)\n",
    "trt.forward(abs(y2_2-y1_2))\n",
    "trt.right(90)\n",
    "trt.forward(x2_2-x1_2)\n",
    "trt.right(90)\n",
    "trt.forward(abs(y2_2-y1_2))\n",
    "\n",
    "trt.mainloop()\n"
   ]
  }
 ],
 "metadata": {
  "kernelspec": {
   "display_name": "Python 3",
   "language": "python",
   "name": "python3"
  },
  "language_info": {
   "codemirror_mode": {
    "name": "ipython",
    "version": 3
   },
   "file_extension": ".py",
   "mimetype": "text/x-python",
   "name": "python",
   "nbconvert_exporter": "python",
   "pygments_lexer": "ipython3",
   "version": "3.11.0"
  }
 },
 "nbformat": 4,
 "nbformat_minor": 2
}
