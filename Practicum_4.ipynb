{
 "cells": [
  {
   "cell_type": "code",
   "execution_count": 3,
   "metadata": {},
   "outputs": [
    {
     "name": "stdout",
     "output_type": "stream",
     "text": [
      "Проходи!\n"
     ]
    }
   ],
   "source": [
    "#1\n",
    "if input() == 'пароль':\n",
    "    print('Проходи!')\n",
    "else:\n",
    "    print('Доступ запрещен!')"
   ]
  },
  {
   "cell_type": "code",
   "execution_count": 6,
   "metadata": {},
   "outputs": [
    {
     "name": "stdout",
     "output_type": "stream",
     "text": [
      "Какие два слова передал первой радиограммой Александр Попов?\n",
      "Неверно\n"
     ]
    }
   ],
   "source": [
    "#2\n",
    "true_first_word = 'Генрих'\n",
    "true_second_word = 'Герц'\n",
    "\n",
    "print('Какие два слова передал первой радиограммой Александр Попов?')\n",
    "first_word = input('Первое слово:')\n",
    "second_word = input('Второе слово:')\n",
    "\n",
    "if first_word == true_first_word and second_word == true_second_word:\n",
    "    print('Верно')\n",
    "else:\n",
    "    print('Неверно')"
   ]
  },
  {
   "cell_type": "code",
   "execution_count": 7,
   "metadata": {},
   "outputs": [
    {
     "name": "stdout",
     "output_type": "stream",
     "text": [
      "Неверно\n"
     ]
    }
   ],
   "source": [
    "#3\n",
    "true_name = 'Джеймс Бонд'\n",
    "if input() == true_name:\n",
    "    print('Верно')\n",
    "else:\n",
    "    print('Неверно')"
   ]
  },
  {
   "cell_type": "code",
   "execution_count": 8,
   "metadata": {},
   "outputs": [
    {
     "name": "stdout",
     "output_type": "stream",
     "text": [
      "Неверно\n"
     ]
    }
   ],
   "source": [
    "#4\n",
    "banned_words = 'данет'\n",
    "if input('Вы поедете на бал?') in banned_words:\n",
    "    print('Неверно')\n",
    "else:\n",
    "    print('Верно')"
   ]
  },
  {
   "cell_type": "code",
   "execution_count": 9,
   "metadata": {},
   "outputs": [
    {
     "name": "stdout",
     "output_type": "stream",
     "text": [
      "12\n"
     ]
    }
   ],
   "source": [
    "#5\n",
    "n = int(input())\n",
    "k = int(input())\n",
    "\n",
    "if n<k:\n",
    "    print(n)\n",
    "else:\n",
    "    print(k)"
   ]
  },
  {
   "cell_type": "code",
   "execution_count": 12,
   "metadata": {},
   "outputs": [
    {
     "name": "stdout",
     "output_type": "stream",
     "text": [
      "2\n"
     ]
    }
   ],
   "source": [
    "#6\n",
    "score = input().split(':')\n",
    "\n",
    "if score[0] > score[1]:\n",
    "    print(1)\n",
    "elif score[0] < score[1]:\n",
    "    print(2)\n",
    "else:\n",
    "    print(0)"
   ]
  },
  {
   "cell_type": "code",
   "execution_count": 16,
   "metadata": {},
   "outputs": [
    {
     "name": "stdout",
     "output_type": "stream",
     "text": [
      "14700\n"
     ]
    }
   ],
   "source": [
    "#7\n",
    "score = list(map(int, input().split(' ')))\n",
    "if score[0] > score[1] and score[0] > score[2]:\n",
    "    print(score[0])\n",
    "elif score[1] > score[0] and score[1] > score[2]:\n",
    "    print(score[1])\n",
    "else:\n",
    "    print(score[2])"
   ]
  },
  {
   "cell_type": "code",
   "execution_count": 20,
   "metadata": {},
   "outputs": [
    {
     "name": "stdout",
     "output_type": "stream",
     "text": [
      "Очень приятно, Анна! Меня зовут Марк.\n",
      "Да, Анна, Вы старше меня на 12 лет.\n",
      "Жаль. Я думал, Вы сможете написать интересную программу для меня.\n"
     ]
    }
   ],
   "source": [
    "#8\n",
    "name, years, years_mark, answer_about_programming = '', '', 78, '' \n",
    "\n",
    "name = input('Здравствуйте! Как Вас зовут?')\n",
    "print(f'Очень приятно, {name}! Меня зовут Марк.')\n",
    "\n",
    "years = int(input('Сколько Вам лет?'))\n",
    "if years > years_mark:\n",
    "    print(f'Да, {name}, Вы старше меня на {years - years_mark} лет.')\n",
    "else:\n",
    "    print(f'Да, {name}, я старше Вас на {years_mark - years} лет.')\n",
    "\n",
    "answer_about_programming = input('Вам нравится программировать?')\n",
    "if answer_about_programming == 'да':\n",
    "    print('Превосходно! Уверен, у Вас получится написать множество полезных и хороших программ.')\n",
    "else:\n",
    "    print('Жаль. Я думал, Вы сможете написать интересную программу для меня.')"
   ]
  },
  {
   "cell_type": "code",
   "execution_count": 1,
   "metadata": {},
   "outputs": [
    {
     "name": "stdout",
     "output_type": "stream",
     "text": [
      "ирландский волкодав\n"
     ]
    }
   ],
   "source": [
    "#9\n",
    "if input('Собака короткошерстной породы?') == 'да':\n",
    "\n",
    "    if input('Рост собаки менее 50 см?') == 'да':\n",
    "\n",
    "        if input('У собаки короткий хвост?') == 'да':\n",
    "            print('английский бульдог')\n",
    "\n",
    "        else:\n",
    "            if input('У собаки длинные уши?') == 'да':\n",
    "                print('гончая')\n",
    "            \n",
    "            else:\n",
    "                if input('У собаки короткое тело?') == 'да':\n",
    "                    print('мопс')\n",
    "                else:\n",
    "                    print('чихуахуа')\n",
    "    \n",
    "    else:\n",
    "        if input('Собака весит более 50 кг?'):\n",
    "            print('да')\n",
    "        else:\n",
    "            print('Нет')\n",
    "\n",
    "else:\n",
    "    if input('Рост собаки менее 50 см?') == 'да':\n",
    "        if input('У собаки доброжелательный характер?') == 'да':\n",
    "            print('кокер-спаниэль')\n",
    "        else:\n",
    "            print('ирландский сеттер')\n",
    "    \n",
    "    else:\n",
    "        if input('У собаки рост менее 70 см?') == 'да':\n",
    "            if input('У собаки длинные уши?') == 'да':\n",
    "                print('большой вандейский грифон')\n",
    "            else:\n",
    "                print('колли')\n",
    "        \n",
    "        else:\n",
    "            if input('Окрас рыжий с белыми отметинами?') == 'да':\n",
    "                print('сенбернар')\n",
    "            \n",
    "            else:\n",
    "                if input('Белоснежный окрас?') == 'да':\n",
    "                    print('ирландский волкодав')\n",
    "                else:\n",
    "                    print('ньюфаундлер')"
   ]
  },
  {
   "cell_type": "code",
   "execution_count": 23,
   "metadata": {},
   "outputs": [
    {
     "name": "stdout",
     "output_type": "stream",
     "text": [
      "да\n"
     ]
    }
   ],
   "source": [
    "#10\n",
    "n = int(input())\n",
    "if n%2 == 0:\n",
    "    print('да')\n",
    "else:\n",
    "    print('нет')"
   ]
  }
 ],
 "metadata": {
  "kernelspec": {
   "display_name": "Python 3",
   "language": "python",
   "name": "python3"
  },
  "language_info": {
   "codemirror_mode": {
    "name": "ipython",
    "version": 3
   },
   "file_extension": ".py",
   "mimetype": "text/x-python",
   "name": "python",
   "nbconvert_exporter": "python",
   "pygments_lexer": "ipython3",
   "version": "3.11.0"
  }
 },
 "nbformat": 4,
 "nbformat_minor": 2
}
