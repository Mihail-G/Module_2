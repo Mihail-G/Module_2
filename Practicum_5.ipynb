{
 "cells": [
  {
   "cell_type": "code",
   "execution_count": 1,
   "metadata": {},
   "outputs": [
    {
     "name": "stdout",
     "output_type": "stream",
     "text": [
      "366\n"
     ]
    }
   ],
   "source": [
    "#1\n",
    "if int(input()) %4 == 0:\n",
    "    print(366)\n",
    "else:\n",
    "    print(365)"
   ]
  },
  {
   "cell_type": "code",
   "execution_count": null,
   "metadata": {},
   "outputs": [],
   "source": [
    "#2\n",
    "import turtle as trt\n",
    "xc, yc, r = int(input()), int(input()), int(input())\n",
    "x, y = int(input()), int(input())\n",
    "\n",
    "trt.up()\n",
    "trt.setposition(xc, yc - r)\n",
    "trt.down()\n",
    "\n",
    "trt.circle(r)\n",
    "\n",
    "trt.up()\n",
    "trt.setposition(x, y)\n",
    "trt.dot(5)\n",
    "\n",
    "trt.mainloop()"
   ]
  }
 ],
 "metadata": {
  "kernelspec": {
   "display_name": "Python 3",
   "language": "python",
   "name": "python3"
  },
  "language_info": {
   "codemirror_mode": {
    "name": "ipython",
    "version": 3
   },
   "file_extension": ".py",
   "mimetype": "text/x-python",
   "name": "python",
   "nbconvert_exporter": "python",
   "pygments_lexer": "ipython3",
   "version": "3.11.0"
  }
 },
 "nbformat": 4,
 "nbformat_minor": 2
}
