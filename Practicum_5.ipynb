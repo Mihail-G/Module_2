{
 "cells": [
  {
   "cell_type": "code",
   "execution_count": 28,
   "metadata": {},
   "outputs": [
    {
     "name": "stdout",
     "output_type": "stream",
     "text": [
      "366\n"
     ]
    }
   ],
   "source": [
    "#1\n",
    "if int(input()) %4 == 0:\n",
    "    print(366)\n",
    "else:\n",
    "    print(365)"
   ]
  },
  {
   "cell_type": "code",
   "execution_count": null,
   "metadata": {},
   "outputs": [],
   "source": [
    "#2\n",
    "import turtle as trt\n",
    "xc, yc, r = int(input()), int(input()), int(input())\n",
    "x, y = int(input()), int(input())\n",
    "\n",
    "trt.up()\n",
    "trt.setposition(xc, yc - r)\n",
    "trt.down()\n",
    "\n",
    "trt.circle(r)\n",
    "\n",
    "trt.up()\n",
    "trt.setposition(x, y)\n",
    "trt.dot(5)\n",
    "\n",
    "trt.mainloop()"
   ]
  },
  {
   "cell_type": "code",
   "execution_count": null,
   "metadata": {},
   "outputs": [
    {
     "name": "stdout",
     "output_type": "stream",
     "text": [
      "настоящее\n"
     ]
    }
   ],
   "source": [
    "#3\n",
    "n = int(input())\n",
    "if n//1000 == n%10 and (n//100)%10 == (n//10)%10:\n",
    "    print(\"настоящее\")\n",
    "else:\n",
    "    print(\"кривое\")"
   ]
  },
  {
   "cell_type": "code",
   "execution_count": null,
   "metadata": {},
   "outputs": [
    {
     "name": "stdout",
     "output_type": "stream",
     "text": [
      "41 попугай\n"
     ]
    }
   ],
   "source": [
    "#4\n",
    "n = int(input())\n",
    "\n",
    "if n%10==0 or 5<=n<=20  or (n>20 and 5<=n%10<=9):\n",
    "    print(f'{n} попугаев')\n",
    "\n",
    "elif n%10==1 and n!=11:\n",
    "    print(f'{n} попугай')\n",
    "\n",
    "else:\n",
    "    print(f'{n} попугая')"
   ]
  },
  {
   "cell_type": "code",
   "execution_count": null,
   "metadata": {},
   "outputs": [
    {
     "name": "stdout",
     "output_type": "stream",
     "text": [
      "избыточная масса тела\n"
     ]
    }
   ],
   "source": [
    "#5\n",
    "def imt(l, m):\n",
    "    return m/(l**2)\n",
    "\n",
    "a, b = int(input())/100, int(input())\n",
    "\n",
    "if imt(a, b)<16: print('выраженный дефицит массы тела')\n",
    "elif 16<=imt(a,b)<=18.49: print('недостаточная масса тела')\n",
    "elif 18.5<=imt(a,b)<=24.99: print('норма')\n",
    "elif 25<=imt(a,b)<=29.99: print('избыточная масса тела')\n",
    "elif 30<=imt(a,b)<=34.99: print('ожирение первой степени')\n",
    "elif 35<=imt(a,b)<=39.99: print('ожирение второй степени')\n",
    "else: print('ожирение третьей степени')"
   ]
  },
  {
   "cell_type": "code",
   "execution_count": 27,
   "metadata": {},
   "outputs": [
    {
     "name": "stdout",
     "output_type": "stream",
     "text": [
      "2\n"
     ]
    }
   ],
   "source": [
    "#6\n",
    "m=[]\n",
    "for _ in range(3):\n",
    "    m.append(int(input()))\n",
    "\n",
    "if m.count(m[0])>1:\n",
    "    print(m.count(m[0]))\n",
    "elif m.count(m[1])>1:\n",
    "    print(m.count(m[1]))"
   ]
  },
  {
   "cell_type": "code",
   "execution_count": 44,
   "metadata": {},
   "outputs": [
    {
     "name": "stdout",
     "output_type": "stream",
     "text": [
      "3\n"
     ]
    }
   ],
   "source": [
    "#7\n",
    "s = input().split(' ')\n",
    "n, k, m = int(s[0]), int(s[1]), int(s[2])\n",
    "\n",
    "if abs(k-m)<n//2:\n",
    "    print(abs(k-m)-1)\n",
    "\n",
    "else:\n",
    "    print(m+(n-k)-1)"
   ]
  },
  {
   "cell_type": "code",
   "execution_count": 47,
   "metadata": {},
   "outputs": [
    {
     "name": "stdout",
     "output_type": "stream",
     "text": [
      "1 галлеонов\n",
      "7 кнатов\n"
     ]
    }
   ],
   "source": [
    "#8\n",
    "n = int(input())\n",
    "\n",
    "if n>17*29:\n",
    "    print(f'{n//(17*29)} галлеонов')\n",
    "    n=(n-(17*29)*(n//(17*29)))\n",
    "\n",
    "    if n>29:\n",
    "        print(f'{n//29} сиклей')\n",
    "        n=(n-29*(n//29))\n",
    "\n",
    "        print(f'{n} кнатов')\n",
    "    \n",
    "    else:\n",
    "        print(f'{n} кнатов')\n",
    "\n",
    "else:\n",
    "    if n>29:\n",
    "        print(f'{n//29} сиклей')\n",
    "        n=(n-29*(n//29))\n",
    "\n",
    "        print(f'{n} кнатов')\n",
    "    \n",
    "    else:\n",
    "        print(f'{n} кнатов')"
   ]
  },
  {
   "cell_type": "code",
   "execution_count": null,
   "metadata": {},
   "outputs": [
    {
     "name": "stdout",
     "output_type": "stream",
     "text": [
      "2890 2240 2170\n"
     ]
    }
   ],
   "source": [
    "#9\n",
    "s = input().split(' ')\n",
    "a, b, c = int(s[0]), int(s[1]), int(s[2])\n",
    "\n",
    "if a>b:\n",
    "    if a>c:\n",
    "        if b>c:\n",
    "            print(a,b,c)\n",
    "        else:\n",
    "            print(a,c,b)\n",
    "    else:\n",
    "        print(c,a,b)\n",
    "\n",
    "else:\n",
    "    if a>c:\n",
    "        print(b,a,c)\n",
    "    else:\n",
    "        print(b,c,a)"
   ]
  },
  {
   "cell_type": "code",
   "execution_count": 58,
   "metadata": {},
   "outputs": [
    {
     "name": "stdout",
     "output_type": "stream",
     "text": [
      "OK\n"
     ]
    }
   ],
   "source": [
    "#10\n",
    "n = input()\n",
    "if len(n)==4 and n.count(n[0])==n.count(n[1])==n.count(n[2])==n.count(n[3])==1:\n",
    "    if int(n)>2050 or int(n)<1900:\n",
    "        print('OK')\n",
    "    else:\n",
    "        print('ERROR')\n",
    "else:\n",
    "    print('ERROR')"
   ]
  }
 ],
 "metadata": {
  "kernelspec": {
   "display_name": "Python 3",
   "language": "python",
   "name": "python3"
  },
  "language_info": {
   "codemirror_mode": {
    "name": "ipython",
    "version": 3
   },
   "file_extension": ".py",
   "mimetype": "text/x-python",
   "name": "python",
   "nbconvert_exporter": "python",
   "pygments_lexer": "ipython3",
   "version": "3.11.0"
  }
 },
 "nbformat": 4,
 "nbformat_minor": 2
}
